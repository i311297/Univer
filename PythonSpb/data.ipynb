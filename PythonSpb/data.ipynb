{
 "cells": [
  {
   "cell_type": "code",
   "execution_count": 1,
   "metadata": {},
   "outputs": [
    {
     "name": "stdout",
     "output_type": "stream",
     "text": [
      "Requirement already satisfied: ObsPy in c:\\programdata\\anaconda3\\lib\\site-packages (1.1.1)\n",
      "Requirement already satisfied: matplotlib>=1.1.0 in c:\\programdata\\anaconda3\\lib\\site-packages (from ObsPy) (3.0.2)\n",
      "Requirement already satisfied: decorator in c:\\programdata\\anaconda3\\lib\\site-packages (from ObsPy) (4.3.0)\n",
      "Requirement already satisfied: lxml in c:\\programdata\\anaconda3\\lib\\site-packages (from ObsPy) (4.2.5)\n",
      "Requirement already satisfied: sqlalchemy in c:\\programdata\\anaconda3\\lib\\site-packages (from ObsPy) (1.2.15)\n",
      "Requirement already satisfied: requests in c:\\programdata\\anaconda3\\lib\\site-packages (from ObsPy) (2.21.0)\n",
      "Requirement already satisfied: numpy>=1.6.1 in c:\\programdata\\anaconda3\\lib\\site-packages (from ObsPy) (1.15.4)\n",
      "Requirement already satisfied: scipy>=0.9.0 in c:\\programdata\\anaconda3\\lib\\site-packages (from ObsPy) (1.1.0)\n",
      "Requirement already satisfied: future>=0.12.4 in c:\\programdata\\anaconda3\\lib\\site-packages (from ObsPy) (0.17.1)\n",
      "Requirement already satisfied: setuptools in c:\\programdata\\anaconda3\\lib\\site-packages (from ObsPy) (40.6.3)\n",
      "Requirement already satisfied: cycler>=0.10 in c:\\programdata\\anaconda3\\lib\\site-packages (from matplotlib>=1.1.0->ObsPy) (0.10.0)\n",
      "Requirement already satisfied: kiwisolver>=1.0.1 in c:\\programdata\\anaconda3\\lib\\site-packages (from matplotlib>=1.1.0->ObsPy) (1.0.1)\n",
      "Requirement already satisfied: pyparsing!=2.0.4,!=2.1.2,!=2.1.6,>=2.0.1 in c:\\programdata\\anaconda3\\lib\\site-packages (from matplotlib>=1.1.0->ObsPy) (2.3.0)\n",
      "Requirement already satisfied: python-dateutil>=2.1 in c:\\programdata\\anaconda3\\lib\\site-packages (from matplotlib>=1.1.0->ObsPy) (2.7.5)\n",
      "Requirement already satisfied: idna<2.9,>=2.5 in c:\\programdata\\anaconda3\\lib\\site-packages (from requests->ObsPy) (2.8)\n",
      "Requirement already satisfied: chardet<3.1.0,>=3.0.2 in c:\\programdata\\anaconda3\\lib\\site-packages (from requests->ObsPy) (3.0.4)\n",
      "Requirement already satisfied: certifi>=2017.4.17 in c:\\programdata\\anaconda3\\lib\\site-packages (from requests->ObsPy) (2018.11.29)\n",
      "Requirement already satisfied: urllib3<1.25,>=1.21.1 in c:\\programdata\\anaconda3\\lib\\site-packages (from requests->ObsPy) (1.24.1)\n",
      "Requirement already satisfied: six in c:\\programdata\\anaconda3\\lib\\site-packages (from cycler>=0.10->matplotlib>=1.1.0->ObsPy) (1.12.0)\n"
     ]
    }
   ],
   "source": [
    "!pip install ObsPy;"
   ]
  },
  {
   "cell_type": "code",
   "execution_count": 2,
   "metadata": {},
   "outputs": [],
   "source": [
    "from obspy.core import read\n",
    "import pandas as pd\n",
    "import json"
   ]
  },
  {
   "cell_type": "code",
   "execution_count": 3,
   "metadata": {
    "scrolled": true
   },
   "outputs": [],
   "source": [
    "import os\n",
    "def readData(dir):\n",
    "    data = []\n",
    "    a = []\n",
    "    rootDir = dir\n",
    "    for dirName, subdirList, fileList in os.walk(dir):\n",
    "        for fname in fileList:\n",
    "            if fname[-1]=='v':\n",
    "                name = dir + '/' + dirName[4:]+'/'+fname\n",
    "                try:\n",
    "                    st = read(name)[0].data\n",
    "                    st = list(st)\n",
    "                    st.insert(0,fname[:-4])\n",
    "                    a.append(st)\n",
    "                except: \n",
    "                    1\n",
    "        data.append(a)\n",
    "        a = []\n",
    "    return data   "
   ]
  },
  {
   "cell_type": "code",
   "execution_count": 4,
   "metadata": {},
   "outputs": [],
   "source": [
    "data = readData('rsk')"
   ]
  },
  {
   "cell_type": "code",
   "execution_count": 4,
   "metadata": {},
   "outputs": [],
   "source": [
    "df = data[2:]\n",
    "df = pd.DataFrame(df)\n",
    "df = df.iloc[:,0:18]"
   ]
  },
  {
   "cell_type": "code",
   "execution_count": 7,
   "metadata": {},
   "outputs": [
    {
     "name": "stdout",
     "output_type": "stream",
     "text": [
      "0  =  0\n",
      "1  =  0\n",
      "2  =  0\n",
      "3  =  0\n",
      "4  =  0\n",
      "5  =  0\n",
      "6  =  0\n",
      "7  =  0\n",
      "8  =  0\n",
      "9  =  0\n",
      "10  =  0\n",
      "11  =  0\n",
      "12  =  0\n",
      "13  =  0\n",
      "14  =  0\n",
      "15  =  0\n",
      "16  =  32\n",
      "17  =  58\n"
     ]
    }
   ],
   "source": [
    "z = 0\n",
    "for j in range(18):\n",
    "    z=0\n",
    "    for i in df[j]:\n",
    "        if i is None:\n",
    "            z+=1\n",
    "    print(j, ' = ' ,z)"
   ]
  },
  {
   "cell_type": "code",
   "execution_count": 8,
   "metadata": {},
   "outputs": [
    {
     "name": "stdout",
     "output_type": "stream",
     "text": [
      "{'comEvInfo': {'db': {'label': 'Р\\xa0Р°СЃРїР°РґСЃРєР°СЏ-local', 'DBName': '', 'HostOfServer': '', 'NameOfServer': '', 'user': '', 'password': '', 'UTC_timezone': 7, 'connectTimeout': 2, 'security': 'SSPI', 'SQL2000': False, '_CADPath': '', 'warningEnergy': 0.0, 'CADPath': '', 'fullServerName': '\\\\', 'isValid': True}, 'timeMine': '2018-03-13T00:05:13', 'timeComputer': '2018-03-12T20:05:13', 'passed': '365Рґ 16С‡  РЅР°Р·Р°Рґ', 'mineTimeVerbose': '13.03.2018, 0:05', 'mineTimeUTCVerbose': '13.03.2018, 0:05 UTC+7'}, 'number': 0, 'temp_number': 0, 'timeMine': '2018-03-13T00:05:13', 'isExplosion': False, 'eventType': 'РЎРѕР±С‹С‚РёРµ', 'E': 68.74733168701033, 'x': 57908.0, 'y': 73582.0, 'z': 35.0, 'xyz': [57908.0, 73582.0, 35.0], 'coordsComputed': True, 'isValid': True, 'impactRadius': 15.0, 'origin': {'IsEmpty': False, 'X': 57908.0, 'Y': 73582.0}, 'isExplStr': 'РќРµС‚', 'mineTimeStr': '13.03.2018, 0:05', 'stringRepr': '365Рґ 16С‡  РЅР°Р·Р°Рґ\\r\\n13.03.2018, 0:05 UTC+7\\r\\n68,75 РґР¶.'}\n"
     ]
    }
   ],
   "source": [
    "json_data = open(r\"rsk/20180313_00-05-13/catalogRecord.json\").read()\n",
    "d = json.loads(json_data)\n",
    "print(d)"
   ]
  },
  {
   "cell_type": "code",
   "execution_count": 9,
   "metadata": {},
   "outputs": [
    {
     "name": "stdout",
     "output_type": "stream",
     "text": [
      "{'cdata': {'SetMode': 16, 'BodyItem': 17, 'Numbloc': 64, 'NumGauge': 4, 'Bt': True, 'BTime': '2018-03-13T00:05:13.464', 'Time': '2018-03-13T00:05:13.464', 'BeHistory': 32, 'AfHistory': 96, 'CountPoint': 4, 'Explosion': 0}, 'datchikComponents': [[{'Number': 0, 'ready': True, 'Notch': False, 'Max': 32, 'Min': 99, 'FiltrType': 2, 'Frequency': 10, 'Ampl1Index': 1, 'Ampl2': 70, 'View': False, 'Color': '', 'FreqCont': 0, 'FreqCur': 10, 'Ampl1Bef1': 0, 'Ampl1Bef50': 100, 'FactorGauge': 10}, {'Number': 1, 'ready': True, 'Notch': False, 'Max': 32, 'Min': 99, 'FiltrType': 2, 'Frequency': 15, 'Ampl1Index': 1, 'Ampl2': 100, 'View': False, 'Color': '', 'FreqCont': 0, 'FreqCur': 10, 'Ampl1Bef1': 0, 'Ampl1Bef50': 100, 'FactorGauge': 10}, {'Number': 2, 'ready': True, 'Notch': False, 'Max': 35, 'Min': 99, 'FiltrType': 0, 'Frequency': 15, 'Ampl1Index': 1, 'Ampl2': 150, 'View': False, 'Color': '', 'FreqCont': 0, 'FreqCur': 10, 'Ampl1Bef1': 0, 'Ampl1Bef50': 100, 'FactorGauge': 10}], [{'Number': 0, 'ready': True, 'Notch': False, 'Max': 45, 'Min': 99, 'FiltrType': 2, 'Frequency': 20, 'Ampl1Index': 1, 'Ampl2': 150, 'View': False, 'Color': '', 'FreqCont': 52, 'FreqCur': 10, 'Ampl1Bef1': 0, 'Ampl1Bef50': 100, 'FactorGauge': 10}, {'Number': 1, 'ready': True, 'Notch': False, 'Max': 45, 'Min': 99, 'FiltrType': 2, 'Frequency': 10, 'Ampl1Index': 1, 'Ampl2': 180, 'View': False, 'Color': '', 'FreqCont': 0, 'FreqCur': 10, 'Ampl1Bef1': 0, 'Ampl1Bef50': 100, 'FactorGauge': 10}, {'Number': 2, 'ready': True, 'Notch': False, 'Max': 37, 'Min': 99, 'FiltrType': 2, 'Frequency': 25, 'Ampl1Index': 1, 'Ampl2': 140, 'View': False, 'Color': '', 'FreqCont': 0, 'FreqCur': 10, 'Ampl1Bef1': 0, 'Ampl1Bef50': 100, 'FactorGauge': 10}], [{'Number': 0, 'ready': True, 'Notch': False, 'Max': 44, 'Min': 99, 'FiltrType': 2, 'Frequency': 10, 'Ampl1Index': 1, 'Ampl2': 50, 'View': False, 'Color': '', 'FreqCont': 0, 'FreqCur': 10, 'Ampl1Bef1': 0, 'Ampl1Bef50': 100, 'FactorGauge': 10}, {'Number': 1, 'ready': True, 'Notch': False, 'Max': 46, 'Min': 99, 'FiltrType': 0, 'Frequency': 15, 'Ampl1Index': 1, 'Ampl2': 50, 'View': False, 'Color': '', 'FreqCont': 0, 'FreqCur': 10, 'Ampl1Bef1': 0, 'Ampl1Bef50': 100, 'FactorGauge': 10}, {'Number': 2, 'ready': True, 'Notch': False, 'Max': 48, 'Min': 99, 'FiltrType': 2, 'Frequency': 5, 'Ampl1Index': 1, 'Ampl2': 180, 'View': False, 'Color': '', 'FreqCont': 0, 'FreqCur': 10, 'Ampl1Bef1': 0, 'Ampl1Bef50': 100, 'FactorGauge': 10}], [{'Number': 0, 'ready': True, 'Notch': False, 'Max': 50, 'Min': 99, 'FiltrType': 0, 'Frequency': 35, 'Ampl1Index': 1, 'Ampl2': 100, 'View': False, 'Color': '', 'FreqCont': 0, 'FreqCur': 10, 'Ampl1Bef1': 0, 'Ampl1Bef50': 100, 'FactorGauge': 10}, {'Number': 1, 'ready': True, 'Notch': False, 'Max': 48, 'Min': 99, 'FiltrType': 1, 'Frequency': 35, 'Ampl1Index': 1, 'Ampl2': 150, 'View': False, 'Color': '', 'FreqCont': 0, 'FreqCur': 10, 'Ampl1Bef1': 0, 'Ampl1Bef50': 100, 'FactorGauge': 10}, {'Number': 2, 'ready': True, 'Notch': False, 'Max': 50, 'Min': 99, 'FiltrType': 2, 'Frequency': 15, 'Ampl1Index': 1, 'Ampl2': 150, 'View': False, 'Color': '', 'FreqCont': 0, 'FreqCur': 10, 'Ampl1Bef1': 0, 'Ampl1Bef50': 100, 'FactorGauge': 10}], [{'Number': 0, 'ready': True, 'Notch': False, 'Max': 38, 'Min': 99, 'FiltrType': 0, 'Frequency': 25, 'Ampl1Index': 1, 'Ampl2': 150, 'View': False, 'Color': '', 'FreqCont': 0, 'FreqCur': 10, 'Ampl1Bef1': 0, 'Ampl1Bef50': 100, 'FactorGauge': 10}, {'Number': 1, 'ready': True, 'Notch': False, 'Max': 35, 'Min': 99, 'FiltrType': 2, 'Frequency': 15, 'Ampl1Index': 1, 'Ampl2': 60, 'View': False, 'Color': '', 'FreqCont': 0, 'FreqCur': 10, 'Ampl1Bef1': 0, 'Ampl1Bef50': 100, 'FactorGauge': 10}, {'Number': 2, 'ready': True, 'Notch': False, 'Max': 38, 'Min': 99, 'FiltrType': 2, 'Frequency': 15, 'Ampl1Index': 1, 'Ampl2': 150, 'View': False, 'Color': '', 'FreqCont': 0, 'FreqCur': 10, 'Ampl1Bef1': 0, 'Ampl1Bef50': 100, 'FactorGauge': 10}], [{'Number': 0, 'ready': False, 'Notch': False, 'Max': 99, 'Min': 99, 'FiltrType': 0, 'Frequency': 500, 'Ampl1Index': 1, 'Ampl2': 1, 'View': False, 'Color': '', 'FreqCont': 0, 'FreqCur': 10, 'Ampl1Bef1': 0, 'Ampl1Bef50': 100, 'FactorGauge': 10}, {'Number': 1, 'ready': False, 'Notch': False, 'Max': 99, 'Min': 99, 'FiltrType': 0, 'Frequency': 500, 'Ampl1Index': 0, 'Ampl2': 1, 'View': False, 'Color': '', 'FreqCont': 0, 'FreqCur': 10, 'Ampl1Bef1': 100, 'Ampl1Bef50': 0, 'FactorGauge': 10}, {'Number': 2, 'ready': False, 'Notch': False, 'Max': 99, 'Min': 99, 'FiltrType': 0, 'Frequency': 500, 'Ampl1Index': 0, 'Ampl2': 1, 'View': False, 'Color': '', 'FreqCont': 0, 'FreqCur': 10, 'Ampl1Bef1': 100, 'Ampl1Bef50': 0, 'FactorGauge': 10}], [{'Number': 0, 'ready': False, 'Notch': False, 'Max': 99, 'Min': 99, 'FiltrType': 0, 'Frequency': 1000, 'Ampl1Index': 0, 'Ampl2': 1, 'View': False, 'Color': '', 'FreqCont': 0, 'FreqCur': 10, 'Ampl1Bef1': 100, 'Ampl1Bef50': 0, 'FactorGauge': 10}, {'Number': 1, 'ready': False, 'Notch': False, 'Max': 99, 'Min': 99, 'FiltrType': 0, 'Frequency': 1000, 'Ampl1Index': 0, 'Ampl2': 1, 'View': False, 'Color': '', 'FreqCont': 0, 'FreqCur': 10, 'Ampl1Bef1': 100, 'Ampl1Bef50': 0, 'FactorGauge': 10}, {'Number': 2, 'ready': False, 'Notch': False, 'Max': 99, 'Min': 99, 'FiltrType': 0, 'Frequency': 1000, 'Ampl1Index': 0, 'Ampl2': 1, 'View': False, 'Color': '', 'FreqCont': 0, 'FreqCur': 10, 'Ampl1Bef1': 100, 'Ampl1Bef50': 0, 'FactorGauge': 10}], [{'Number': 0, 'ready': False, 'Notch': False, 'Max': 99, 'Min': 99, 'FiltrType': 0, 'Frequency': 1000, 'Ampl1Index': 0, 'Ampl2': 1, 'View': False, 'Color': '', 'FreqCont': 0, 'FreqCur': 10, 'Ampl1Bef1': 100, 'Ampl1Bef50': 0, 'FactorGauge': 10}, {'Number': 1, 'ready': False, 'Notch': False, 'Max': 99, 'Min': 99, 'FiltrType': 0, 'Frequency': 1000, 'Ampl1Index': 0, 'Ampl2': 1, 'View': False, 'Color': '', 'FreqCont': 0, 'FreqCur': 10, 'Ampl1Bef1': 100, 'Ampl1Bef50': 0, 'FactorGauge': 10}, {'Number': 2, 'ready': False, 'Notch': False, 'Max': 99, 'Min': 99, 'FiltrType': 0, 'Frequency': 1000, 'Ampl1Index': 0, 'Ampl2': 1, 'View': False, 'Color': '', 'FreqCont': 0, 'FreqCur': 10, 'Ampl1Bef1': 100, 'Ampl1Bef50': 0, 'FactorGauge': 10}], [{'Number': 0, 'ready': False, 'Notch': False, 'Max': 99, 'Min': 99, 'FiltrType': 0, 'Frequency': 1000, 'Ampl1Index': 0, 'Ampl2': 1, 'View': False, 'Color': '', 'FreqCont': 0, 'FreqCur': 10, 'Ampl1Bef1': 100, 'Ampl1Bef50': 0, 'FactorGauge': 10}, {'Number': 1, 'ready': False, 'Notch': False, 'Max': 99, 'Min': 99, 'FiltrType': 0, 'Frequency': 1000, 'Ampl1Index': 0, 'Ampl2': 1, 'View': False, 'Color': '', 'FreqCont': 0, 'FreqCur': 10, 'Ampl1Bef1': 100, 'Ampl1Bef50': 0, 'FactorGauge': 10}, {'Number': 2, 'ready': False, 'Notch': False, 'Max': 99, 'Min': 99, 'FiltrType': 0, 'Frequency': 1000, 'Ampl1Index': 0, 'Ampl2': 1, 'View': False, 'Color': '', 'FreqCont': 0, 'FreqCur': 10, 'Ampl1Bef1': 100, 'Ampl1Bef50': 0, 'FactorGauge': 10}], [{'Number': 0, 'ready': False, 'Notch': False, 'Max': 99, 'Min': 99, 'FiltrType': 0, 'Frequency': 1000, 'Ampl1Index': 0, 'Ampl2': 1, 'View': False, 'Color': '', 'FreqCont': 0, 'FreqCur': 10, 'Ampl1Bef1': 100, 'Ampl1Bef50': 0, 'FactorGauge': 10}, {'Number': 1, 'ready': False, 'Notch': False, 'Max': 99, 'Min': 99, 'FiltrType': 0, 'Frequency': 1000, 'Ampl1Index': 0, 'Ampl2': 1, 'View': False, 'Color': '', 'FreqCont': 0, 'FreqCur': 10, 'Ampl1Bef1': 100, 'Ampl1Bef50': 0, 'FactorGauge': 10}, {'Number': 2, 'ready': False, 'Notch': False, 'Max': 99, 'Min': 99, 'FiltrType': 0, 'Frequency': 1000, 'Ampl1Index': 0, 'Ampl2': 1, 'View': False, 'Color': '', 'FreqCont': 0, 'FreqCur': 10, 'Ampl1Bef1': 100, 'Ampl1Bef50': 0, 'FactorGauge': 10}], [{'Number': 0, 'ready': False, 'Notch': False, 'Max': 99, 'Min': 99, 'FiltrType': 0, 'Frequency': 1000, 'Ampl1Index': 0, 'Ampl2': 1, 'View': False, 'Color': '', 'FreqCont': 0, 'FreqCur': 10, 'Ampl1Bef1': 100, 'Ampl1Bef50': 0, 'FactorGauge': 10}, {'Number': 1, 'ready': False, 'Notch': False, 'Max': 99, 'Min': 99, 'FiltrType': 0, 'Frequency': 1000, 'Ampl1Index': 0, 'Ampl2': 1, 'View': False, 'Color': '', 'FreqCont': 0, 'FreqCur': 10, 'Ampl1Bef1': 100, 'Ampl1Bef50': 0, 'FactorGauge': 10}, {'Number': 2, 'ready': False, 'Notch': False, 'Max': 99, 'Min': 99, 'FiltrType': 0, 'Frequency': 1000, 'Ampl1Index': 0, 'Ampl2': 1, 'View': False, 'Color': '', 'FreqCont': 0, 'FreqCur': 10, 'Ampl1Bef1': 100, 'Ampl1Bef50': 0, 'FactorGauge': 10}], [{'Number': 0, 'ready': False, 'Notch': False, 'Max': 99, 'Min': 99, 'FiltrType': 0, 'Frequency': 1000, 'Ampl1Index': 0, 'Ampl2': 1, 'View': False, 'Color': '', 'FreqCont': 0, 'FreqCur': 10, 'Ampl1Bef1': 100, 'Ampl1Bef50': 0, 'FactorGauge': 10}, {'Number': 1, 'ready': False, 'Notch': False, 'Max': 99, 'Min': 99, 'FiltrType': 0, 'Frequency': 1000, 'Ampl1Index': 0, 'Ampl2': 1, 'View': False, 'Color': '', 'FreqCont': 0, 'FreqCur': 10, 'Ampl1Bef1': 100, 'Ampl1Bef50': 0, 'FactorGauge': 10}, {'Number': 2, 'ready': False, 'Notch': False, 'Max': 99, 'Min': 99, 'FiltrType': 0, 'Frequency': 1000, 'Ampl1Index': 0, 'Ampl2': 1, 'View': False, 'Color': '', 'FreqCont': 0, 'FreqCur': 10, 'Ampl1Bef1': 100, 'Ampl1Bef50': 0, 'FactorGauge': 10}]], 'datchiki': [{'NumMod': 1, 'Calc': False, 'PowerDSP': 48, 'AmplUART': 50, 'x': 57945.2, 'y': 72818.2, 'z': -65.0, 'v': 4100.0, 'Introduction': False, 'IntroID': 0, 'Ending': False, 'IntroOut': 1, 'Name': '1', 'Line': 0, 'ResponsePower': 16, 'origin': {'IsEmpty': False, 'X': 57945.2, 'Y': 72818.2}, 'isValid': True, 'readyToCompute': False, 'introInX': 0.0, 'introOutX': 0.0005, 'eventTime': 0.0}, {'NumMod': 2, 'Calc': True, 'PowerDSP': 40, 'AmplUART': 50, 'x': 57489.2, 'y': 72968.9, 'z': 45.0, 'v': 4100.0, 'Introduction': True, 'IntroID': 1697, 'Ending': True, 'IntroOut': 2422, 'Name': '2', 'Line': 1, 'ResponsePower': 18, 'origin': {'IsEmpty': False, 'X': 57489.2, 'Y': 72968.9}, 'isValid': True, 'readyToCompute': True, 'introInX': 0.8485, 'introOutX': 1.211, 'eventTime': 0.36250000000000004}, {'NumMod': 10, 'Calc': True, 'PowerDSP': 55, 'AmplUART': 50, 'x': 57875.1, 'y': 72840.7, 'z': -50.0, 'v': 4100.0, 'Introduction': True, 'IntroID': 1706, 'Ending': True, 'IntroOut': 5770, 'Name': '3', 'Line': 2, 'ResponsePower': 8, 'origin': {'IsEmpty': False, 'X': 57875.1, 'Y': 72840.7}, 'isValid': True, 'readyToCompute': True, 'introInX': 0.853, 'introOutX': 2.885, 'eventTime': 2.032}, {'NumMod': 4, 'Calc': True, 'PowerDSP': 46, 'AmplUART': 50, 'x': 57462.2, 'y': 73184.1, 'z': 70.0, 'v': 4100.0, 'Introduction': True, 'IntroID': 1841, 'Ending': True, 'IntroOut': 2031, 'Name': '4', 'Line': 3, 'ResponsePower': 22, 'origin': {'IsEmpty': False, 'X': 57462.2, 'Y': 73184.1}, 'isValid': True, 'readyToCompute': True, 'introInX': 0.9205, 'introOutX': 1.0155, 'eventTime': 0.09500000000000008}, {'NumMod': 5, 'Calc': True, 'PowerDSP': 45, 'AmplUART': 50, 'x': 57716.5, 'y': 73412.8, 'z': 50.0, 'v': 4100.0, 'Introduction': True, 'IntroID': 1466, 'Ending': True, 'IntroOut': 2204, 'Name': '5', 'Line': 4, 'ResponsePower': 15, 'origin': {'IsEmpty': False, 'X': 57716.5, 'Y': 73412.8}, 'isValid': True, 'readyToCompute': True, 'introInX': 0.733, 'introOutX': 1.102, 'eventTime': 0.3690000000000001}, {'NumMod': 255, 'Calc': False, 'PowerDSP': 47, 'AmplUART': 50, 'x': 57716.5, 'y': 73666.1, 'z': 65.0, 'v': 4100.0, 'Introduction': False, 'IntroID': 0, 'Ending': False, 'IntroOut': 1, 'Name': '6', 'Line': 5, 'ResponsePower': 0, 'origin': {'IsEmpty': False, 'X': 57716.5, 'Y': 73666.1}, 'isValid': True, 'readyToCompute': False, 'introInX': 0.0, 'introOutX': 0.0005, 'eventTime': 0.0}, {'NumMod': 0, 'Calc': False, 'PowerDSP': 70, 'AmplUART': 50, 'x': 0.0, 'y': 0.0, 'z': 0.0, 'v': 4100.0, 'Introduction': False, 'IntroID': 0, 'Ending': False, 'IntroOut': 1, 'Name': 'no', 'Line': 6, 'ResponsePower': 0, 'origin': {'IsEmpty': True, 'X': 0.0, 'Y': 0.0}, 'isValid': False, 'readyToCompute': False, 'introInX': 0.0, 'introOutX': 0.0005, 'eventTime': 0.0}, {'NumMod': 0, 'Calc': False, 'PowerDSP': 70, 'AmplUART': 50, 'x': 0.0, 'y': 0.0, 'z': 0.0, 'v': 5600.0, 'Introduction': False, 'IntroID': 0, 'Ending': False, 'IntroOut': 1, 'Name': 'no', 'Line': 7, 'ResponsePower': 0, 'origin': {'IsEmpty': True, 'X': 0.0, 'Y': 0.0}, 'isValid': False, 'readyToCompute': False, 'introInX': 0.0, 'introOutX': 0.0005, 'eventTime': 0.0}, {'NumMod': 0, 'Calc': False, 'PowerDSP': 70, 'AmplUART': 50, 'x': 0.0, 'y': 0.0, 'z': 0.0, 'v': 5600.0, 'Introduction': False, 'IntroID': 0, 'Ending': False, 'IntroOut': 1, 'Name': 'no', 'Line': 8, 'ResponsePower': 0, 'origin': {'IsEmpty': True, 'X': 0.0, 'Y': 0.0}, 'isValid': False, 'readyToCompute': False, 'introInX': 0.0, 'introOutX': 0.0005, 'eventTime': 0.0}, {'NumMod': 0, 'Calc': False, 'PowerDSP': 70, 'AmplUART': 50, 'x': 0.0, 'y': 0.0, 'z': 0.0, 'v': 5600.0, 'Introduction': False, 'IntroID': 0, 'Ending': False, 'IntroOut': 1, 'Name': 'no', 'Line': 9, 'ResponsePower': 0, 'origin': {'IsEmpty': True, 'X': 0.0, 'Y': 0.0}, 'isValid': False, 'readyToCompute': False, 'introInX': 0.0, 'introOutX': 0.0005, 'eventTime': 0.0}, {'NumMod': 0, 'Calc': False, 'PowerDSP': 70, 'AmplUART': 50, 'x': 0.0, 'y': 0.0, 'z': 0.0, 'v': 5600.0, 'Introduction': False, 'IntroID': 0, 'Ending': False, 'IntroOut': 1, 'Name': 'no', 'Line': 10, 'ResponsePower': 0, 'origin': {'IsEmpty': True, 'X': 0.0, 'Y': 0.0}, 'isValid': False, 'readyToCompute': False, 'introInX': 0.0, 'introOutX': 0.0005, 'eventTime': 0.0}, {'NumMod': 0, 'Calc': False, 'PowerDSP': 70, 'AmplUART': 50, 'x': 0.0, 'y': 0.0, 'z': 0.0, 'v': 5600.0, 'Introduction': False, 'IntroID': 0, 'Ending': False, 'IntroOut': 1, 'Name': 'no', 'Line': 11, 'ResponsePower': 0, 'origin': {'IsEmpty': True, 'X': 0.0, 'Y': 0.0}, 'isValid': False, 'readyToCompute': False, 'introInX': 0.0, 'introOutX': 0.0005, 'eventTime': 0.0}]}\n"
     ]
    }
   ],
   "source": [
    "json_data = open(r\"rsk/20180313_00-05-13/header.json\").read()\n",
    "d = json.loads(json_data)\n",
    "print(d)"
   ]
  },
  {
   "cell_type": "code",
   "execution_count": null,
   "metadata": {},
   "outputs": [],
   "source": []
  }
 ],
 "metadata": {
  "kernelspec": {
   "display_name": "Python 3",
   "language": "python",
   "name": "python3"
  },
  "language_info": {
   "codemirror_mode": {
    "name": "ipython",
    "version": 3
   },
   "file_extension": ".py",
   "mimetype": "text/x-python",
   "name": "python",
   "nbconvert_exporter": "python",
   "pygments_lexer": "ipython3",
   "version": "3.7.1"
  }
 },
 "nbformat": 4,
 "nbformat_minor": 2
}
