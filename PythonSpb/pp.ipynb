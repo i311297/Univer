{
 "cells": [
  {
   "cell_type": "code",
   "execution_count": null,
   "metadata": {},
   "outputs": [],
   "source": [
    "import os\n",
    "\n",
    "\n",
    "path = input(\"Input path:\")\n",
    "\n",
    "for i, filename in enumerate(os.listdir(path)):\n",
    "    if filename[-1]=='v':  \n",
    "        os.chdir(path)\n",
    "        newName = filename[:-4].split('_')\n",
    "        os.rename(filename,newName[1]+\"_\"+newName[3]+'.wav')\n",
    "\n",
    "os.rename(filename,newName[1]+\"_\"+newName[3]+'.wav')\n"
   ]
  },
  {
   "cell_type": "code",
   "execution_count": 6,
   "metadata": {},
   "outputs": [],
   "source": [
    "import os\n"
   ]
  },
  {
   "cell_type": "code",
   "execution_count": 8,
   "metadata": {},
   "outputs": [],
   "source": [
    "p = 'rsk'\n",
    "\n",
    "for dirName, subdirList, fileList in os.walk(p):\n",
    "    print(\"1\")\n",
    "\n",
    "    for i, filename in enumerate(os.listdir(dirName)):\n",
    "        if filename[-1]=='v':  \n",
    "            os.chdir(path)\n",
    "            newName = filename[:-4].split('_')\n",
    "            print(newName)\n",
    "\n",
    "\n",
    "\n",
    "\n",
    "\n",
    "\n",
    "\n",
    "\n",
    "\n",
    "\n",
    "\n",
    "\n",
    "\n",
    "\n",
    "\n",
    "\n",
    "\n",
    "\n",
    "\n",
    "\n",
    "\n",
    "\n",
    "\n",
    "\n",
    "\n"
   ]
  },
  {
   "cell_type": "code",
   "execution_count": null,
   "metadata": {},
   "outputs": [],
   "source": []
  }
 ],
 "metadata": {
  "kernelspec": {
   "display_name": "Python 3",
   "language": "python",
   "name": "python3"
  },
  "language_info": {
   "codemirror_mode": {
    "name": "ipython",
    "version": 3
   },
   "file_extension": ".py",
   "mimetype": "text/x-python",
   "name": "python",
   "nbconvert_exporter": "python",
   "pygments_lexer": "ipython3",
   "version": "3.7.1"
  }
 },
 "nbformat": 4,
 "nbformat_minor": 2
}
