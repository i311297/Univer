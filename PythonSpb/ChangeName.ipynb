{
 "cells": [
  {
   "cell_type": "code",
   "execution_count": null,
   "metadata": {},
   "outputs": [],
   "source": [
    "import os\n",
    "def changeNames():\n",
    "    path = input(\"Enter path: \")\n",
    "    dirs = os.listdir(path)\n",
    "    for k in dirs:\n",
    "        if k[0]=='2':\n",
    "            for i, filename in enumerate(os.listdir(path+\"\\\\\"+k)):\n",
    "                if filename[-1]=='v':  \n",
    "                    os.chdir(path+\"\\\\\"+k)\n",
    "                    newName = filename[:-4].split('_')\n",
    "                    os.rename(filename,newName[1]+\"_\"+newName[3]+'.wav')\n",
    "                    \n",
    "    return('All folders renamed')"
   ]
  },
  {
   "cell_type": "code",
   "execution_count": null,
   "metadata": {},
   "outputs": [],
   "source": []
  }
 ],
 "metadata": {
  "kernelspec": {
   "display_name": "Python 3",
   "language": "python",
   "name": "python3"
  },
  "language_info": {
   "codemirror_mode": {
    "name": "ipython",
    "version": 3
   },
   "file_extension": ".py",
   "mimetype": "text/x-python",
   "name": "python",
   "nbconvert_exporter": "python",
   "pygments_lexer": "ipython3",
   "version": "3.7.1"
  }
 },
 "nbformat": 4,
 "nbformat_minor": 2
}
